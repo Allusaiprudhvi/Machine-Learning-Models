{
 "cells": [
  {
   "cell_type": "code",
   "execution_count": 5,
   "metadata": {},
   "outputs": [],
   "source": [
    "import pandas as pd\n",
    "import numpy as np\n",
    "import matplotlib.pyplot as plt\n",
    "import seaborn as sns\n",
    "from sklearn.cluster import KMeans"
   ]
  },
  {
   "cell_type": "code",
   "execution_count": 12,
   "metadata": {},
   "outputs": [],
   "source": [
    "x=2*np.random.rand(100,2)\n",
    "x1=2+2*np.random.rand(50,2)"
   ]
  },
  {
   "cell_type": "code",
   "execution_count": 13,
   "metadata": {},
   "outputs": [],
   "source": [
    "x[50:100,:]=x1"
   ]
  },
  {
   "cell_type": "code",
   "execution_count": 15,
   "metadata": {},
   "outputs": [
    {
     "data": {
      "text/plain": [
       "array([[0.9717408 , 0.01539175],\n",
       "       [1.60400417, 1.83894861],\n",
       "       [0.52600493, 0.87715305],\n",
       "       [0.6008937 , 0.16900567],\n",
       "       [0.38078497, 0.25990663],\n",
       "       [0.49597817, 1.82484758],\n",
       "       [0.96692667, 1.25049577],\n",
       "       [0.18563745, 0.20723112],\n",
       "       [1.25415792, 1.86351702],\n",
       "       [1.54898231, 1.31212925],\n",
       "       [1.33012437, 0.3624461 ],\n",
       "       [0.53705371, 0.59999514],\n",
       "       [1.19673277, 1.63620936],\n",
       "       [1.42708451, 1.19287662],\n",
       "       [0.16517753, 0.25820892],\n",
       "       [1.5853081 , 1.49503205],\n",
       "       [1.13841311, 0.89245501],\n",
       "       [1.46552687, 1.77804375],\n",
       "       [0.46418374, 0.79331348],\n",
       "       [0.69709495, 0.94235963],\n",
       "       [0.77738836, 0.6197376 ],\n",
       "       [0.90698235, 1.9993241 ],\n",
       "       [1.05311983, 0.63105822],\n",
       "       [1.45206954, 1.41212034],\n",
       "       [0.9571425 , 1.45962348],\n",
       "       [1.42280945, 1.78523966],\n",
       "       [0.58418712, 1.84001287],\n",
       "       [1.47041945, 0.23123016],\n",
       "       [0.49277247, 0.63490561],\n",
       "       [0.07558701, 1.98514978],\n",
       "       [1.30020885, 0.20639836],\n",
       "       [0.11174707, 0.74434715],\n",
       "       [1.42438923, 0.85262062],\n",
       "       [0.53785926, 1.24404373],\n",
       "       [1.73002943, 1.23188994],\n",
       "       [0.44883678, 0.26258041],\n",
       "       [0.38224192, 0.26582276],\n",
       "       [0.8260824 , 1.79073225],\n",
       "       [1.75372418, 0.93253024],\n",
       "       [1.66769951, 0.61710553],\n",
       "       [0.85670162, 0.19313338],\n",
       "       [1.11755545, 0.37822648],\n",
       "       [1.8344232 , 1.99570581],\n",
       "       [1.35731335, 1.72073755],\n",
       "       [1.72071306, 1.97851656],\n",
       "       [0.13818164, 0.1340773 ],\n",
       "       [0.95273201, 1.55148361],\n",
       "       [1.73250484, 0.40267382],\n",
       "       [1.87482484, 1.80549251],\n",
       "       [0.03442158, 1.58192802],\n",
       "       [2.17737548, 3.51614056],\n",
       "       [3.70623833, 2.7560552 ],\n",
       "       [3.69318487, 3.71725795],\n",
       "       [3.54396214, 3.52450127],\n",
       "       [2.31363853, 3.6063759 ],\n",
       "       [2.91248275, 2.43371692],\n",
       "       [2.80981897, 3.60901887],\n",
       "       [2.70439956, 2.7405115 ],\n",
       "       [2.51131783, 2.40956179],\n",
       "       [2.84123273, 3.4263301 ],\n",
       "       [3.58726785, 2.79569294],\n",
       "       [2.78970772, 2.10025956],\n",
       "       [2.47744802, 2.89396964],\n",
       "       [2.9937576 , 3.32125242],\n",
       "       [2.76502865, 3.6183857 ],\n",
       "       [2.89318822, 2.9072685 ],\n",
       "       [2.30988523, 3.27236448],\n",
       "       [2.60430402, 3.06052625],\n",
       "       [3.94987176, 3.99210779],\n",
       "       [2.31946802, 3.05047127],\n",
       "       [2.10935125, 2.90013699],\n",
       "       [2.63446687, 2.63901148],\n",
       "       [2.09794809, 3.90684124],\n",
       "       [3.12211389, 3.63778121],\n",
       "       [2.01712641, 2.26107911],\n",
       "       [3.11471872, 3.75981597],\n",
       "       [2.55171255, 2.22520327],\n",
       "       [2.3012472 , 3.57432858],\n",
       "       [3.97063272, 3.66720666],\n",
       "       [3.51429002, 3.7226641 ],\n",
       "       [3.4671938 , 3.77994143],\n",
       "       [3.38348999, 2.72955991],\n",
       "       [2.31686217, 3.85349889],\n",
       "       [3.96766378, 3.28930904],\n",
       "       [2.90017535, 2.5793152 ],\n",
       "       [3.84681327, 3.94092437],\n",
       "       [3.51940521, 3.71144997],\n",
       "       [3.31803074, 2.56731398],\n",
       "       [3.72457988, 2.76907266],\n",
       "       [3.69817566, 3.16686866],\n",
       "       [2.62254341, 3.59068982],\n",
       "       [2.62397093, 2.08391135],\n",
       "       [3.25869576, 2.20047631],\n",
       "       [2.91051147, 3.64479749],\n",
       "       [2.92412191, 3.40245872],\n",
       "       [3.78850058, 2.52298854],\n",
       "       [3.79711219, 3.07014675],\n",
       "       [3.17784786, 2.02268956],\n",
       "       [3.28772259, 3.23452956],\n",
       "       [2.36992299, 3.74382411]])"
      ]
     },
     "execution_count": 15,
     "metadata": {},
     "output_type": "execute_result"
    }
   ],
   "source": [
    "x"
   ]
  },
  {
   "cell_type": "code",
   "execution_count": 16,
   "metadata": {},
   "outputs": [
    {
     "data": {
      "text/plain": [
       "<matplotlib.collections.PathCollection at 0x1bf653cbeb8>"
      ]
     },
     "execution_count": 16,
     "metadata": {},
     "output_type": "execute_result"
    },
    {
     "data": {
      "image/png": "[encoded data removed]",
      "text/plain": [
       "<Figure size 432x288 with 1 Axes>"
      ]
     },
     "metadata": {
      "needs_background": "light"
     },
     "output_type": "display_data"
    }
   ],
   "source": [
    "plt.scatter(x[:,0],x[:,1],c='g')"
   ]
  },
  {
   "cell_type": "code",
   "execution_count": 17,
   "metadata": {},
   "outputs": [],
   "source": [
    "#suppose k=2\n",
    "\n",
    "k1=KMeans(n_clusters=2)"
   ]
  },
  {
   "cell_type": "code",
   "execution_count": 18,
   "metadata": {},
   "outputs": [
    {
     "data": {
      "text/plain": [
       "KMeans(algorithm='auto', copy_x=True, init='k-means++', max_iter=300,\n",
       "       n_clusters=2, n_init=10, n_jobs=None, precompute_distances='auto',\n",
       "       random_state=None, tol=0.0001, verbose=0)"
      ]
     },
     "execution_count": 18,
     "metadata": {},
     "output_type": "execute_result"
    }
   ],
   "source": [
    "k1.fit(x)"
   ]
  },
  {
   "cell_type": "code",
   "execution_count": 19,
   "metadata": {},
   "outputs": [
    {
     "data": {
      "text/plain": [
       "array([[3.00481051, 3.13899207],\n",
       "       [0.99072958, 1.04116029]])"
      ]
     },
     "execution_count": 19,
     "metadata": {},
     "output_type": "execute_result"
    }
   ],
   "source": [
    "k1.cluster_centers_"
   ]
  },
  {
   "cell_type": "code",
   "execution_count": 22,
   "metadata": {},
   "outputs": [
    {
     "data": {
      "text/plain": [
       "array([0, 0, 0, 1, 1, 0, 0, 0, 0, 0, 0, 0, 0, 0, 0, 0, 0, 0, 0, 0, 0, 0,\n",
       "       0, 0, 0, 0, 0, 0, 0, 0, 0, 0, 0, 0, 0, 1, 0, 1, 0, 0, 0, 0, 0, 0,\n",
       "       1, 0, 0, 0, 0, 0, 1, 1, 1, 1, 1, 1, 1, 1, 0, 1, 1, 1, 1, 1, 1, 1,\n",
       "       1, 1, 1, 1, 1, 1, 0, 1, 1, 1, 1, 1, 1, 1, 1, 1, 1, 1, 1, 1, 1, 0,\n",
       "       1, 1, 1, 1, 1, 1, 1, 1, 0, 1, 1, 1])"
      ]
     },
     "execution_count": 22,
     "metadata": {},
     "output_type": "execute_result"
    }
   ],
   "source": [
    "k1.labels_"
   ]
  },
  {
   "cell_type": "code",
   "execution_count": 23,
   "metadata": {},
   "outputs": [],
   "source": [
    "sample=np.array([-3,-3])"
   ]
  },
  {
   "cell_type": "code",
   "execution_count": 24,
   "metadata": {},
   "outputs": [
    {
     "data": {
      "text/plain": [
       "array([-3, -3])"
      ]
     },
     "execution_count": 24,
     "metadata": {},
     "output_type": "execute_result"
    }
   ],
   "source": [
    "sample"
   ]
  },
  {
   "cell_type": "code",
   "execution_count": 25,
   "metadata": {},
   "outputs": [],
   "source": [
    "sample1=sample.reshape(1,-1)"
   ]
  },
  {
   "cell_type": "code",
   "execution_count": 26,
   "metadata": {},
   "outputs": [
    {
     "data": {
      "text/plain": [
       "array([[-3, -3]])"
      ]
     },
     "execution_count": 26,
     "metadata": {},
     "output_type": "execute_result"
    }
   ],
   "source": [
    "sample1"
   ]
  },
  {
   "cell_type": "code",
   "execution_count": 27,
   "metadata": {},
   "outputs": [
    {
     "data": {
      "text/plain": [
       "array([0])"
      ]
     },
     "execution_count": 27,
     "metadata": {},
     "output_type": "execute_result"
    }
   ],
   "source": [
    "k1.predict(sample1)"
   ]
  },
  {
   "cell_type": "code",
   "execution_count": 20,
   "metadata": {},
   "outputs": [
    {
     "data": {
      "text/plain": [
       "<matplotlib.collections.PathCollection at 0x1bf65394c88>"
      ]
     },
     "execution_count": 20,
     "metadata": {},
     "output_type": "execute_result"
    },
    {
     "data": {
      "image/png": "[encoded data removed]",
      "text/plain": [
       "<Figure size 432x288 with 1 Axes>"
      ]
     },
     "metadata": {
      "needs_background": "light"
     },
     "output_type": "display_data"
    }
   ],
   "source": [
    "plt.scatter(x[:,0],x[:,1],color='g')\n",
    "plt.scatter(3.00481051, 3.13899207,color='r')\n",
    "plt.scatter(0.99072958, 1.04116029,color='r')\n"
   ]
  },
  {
   "cell_type": "code",
   "execution_count": 23,
   "metadata": {},
   "outputs": [
    {
     "data": {
      "text/plain": [
       "array([[3.00481051, 3.13899207],\n",
       "       [0.99072958, 1.04116029]])"
      ]
     },
     "execution_count": 23,
     "metadata": {},
     "output_type": "execute_result"
    }
   ],
   "source": [
    "k1.cluster_centers_"
   ]
  },
  {
   "cell_type": "code",
   "execution_count": null,
   "metadata": {},
   "outputs": [],
   "source": [
    "k1.predict()"
   ]
  }
 ],
 "metadata": {
  "kernelspec": {
   "display_name": "Python 3",
   "language": "python",
   "name": "python3"
  },
  "language_info": {
   "codemirror_mode": {
    "name": "ipython",
    "version": 3
   },
   "file_extension": ".py",
   "mimetype": "text/x-python",
   "name": "python",
   "nbconvert_exporter": "python",
   "pygments_lexer": "ipython3",
   "version": "3.6.10"
  }
 },
 "nbformat": 4,
 "nbformat_minor": 4
}
