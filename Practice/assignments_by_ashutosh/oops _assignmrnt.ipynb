{
 "cells": [
  {
   "cell_type": "markdown",
   "metadata": {},
   "source": [
    "# OOPS ASSIGNMENT"
   ]
  },
  {
   "cell_type": "code",
   "execution_count": 33,
   "metadata": {},
   "outputs": [
    {
     "name": "stdout",
     "output_type": "stream",
     "text": [
      "SAI PRUDHVI,DIVYA,VIJAY\n"
     ]
    }
   ],
   "source": [
    "#Q1)\n",
    "\n",
    "class family:\n",
    "    familyname=\"\"\n",
    "    fname=\"\"\n",
    "    mname=\"\"\n",
    "    son_name=\"\"\n",
    "    def show_family_members(self):\n",
    "        print(self.fname,self.mname,self.son_name,sep=',')\n",
    "class father(family):\n",
    "    def show_father(self):\n",
    "        print(self.fname)\n",
    "        \n",
    "class mother(family):\n",
    "    def show_mother(self):\n",
    "        print(self.mname)\n",
    "\n",
    "class son(father,mother):\n",
    "    def show_parents(self):\n",
    "        print(\"Father Name is\",self.familyname,self.fname)\n",
    "        print(\"Mother Name is\",self.familyname,self.mname)\n",
    "        \n",
    "obj1=father()\n",
    "obj1.familyname=\"ALLU\"\n",
    "obj2=son()\n",
    "obj2.fname=\"SAI PRUDHVI\"\n",
    "obj2.mname=\"DIVYA\"\n",
    "obj2.son_name=\"VIJAY\"\n",
    "\n",
    "obj2.show_family_members()"
   ]
  },
  {
   "cell_type": "code",
   "execution_count": 34,
   "metadata": {},
   "outputs": [
    {
     "name": "stdout",
     "output_type": "stream",
     "text": [
      "GOD\n",
      "allu\n",
      "srilu\n",
      "sai\n",
      "prudhvi\n"
     ]
    }
   ],
   "source": [
    "#)Q2\n",
    "class parent:\n",
    "    parentname=\"GOD\"\n",
    "    child1_name=\"allu\"\n",
    "    child2_name=\"srilu\"\n",
    "    child3_name=\"sai\"\n",
    "    child4_name=\"prudhvi\"\n",
    "    def show_parent(self):\n",
    "        print(self.parentname)\n",
    "        \n",
    "class child1(parent):\n",
    "    def show_child1(self):\n",
    "        print(self.child1_name)\n",
    "        \n",
    "class child2(parent):\n",
    "    def show_child2(self):\n",
    "        print(self.child2_name)\n",
    "        \n",
    "class child3(parent):\n",
    "    def show_child3(self):\n",
    "        print(self.child3_name)\n",
    "        \n",
    "class child4(parent):\n",
    "    def show_child4(self):\n",
    "        print(self.child4_name)\n",
    "        \n",
    "obj1=child1()\n",
    "obj2=child2()\n",
    "obj3=child3()\n",
    "obj4=child4()\n",
    "obj1.show_parent()\n",
    "obj1.show_child1()\n",
    "obj2.show_child2()\n",
    "obj3.show_child3()\n",
    "obj4.show_child4()"
   ]
  },
  {
   "cell_type": "code",
   "execution_count": 35,
   "metadata": {},
   "outputs": [
    {
     "name": "stdout",
     "output_type": "stream",
     "text": [
      "Computer_Name lenovo\n",
      "RAM 2GB\n",
      "SSD 512GB\n",
      "MODEL l420\n"
     ]
    }
   ],
   "source": [
    "#Q3\n",
    "class computer:\n",
    "    computer=\"\"\n",
    "    ram=\"\"\n",
    "    ssd=\"\"\n",
    "    def __init__(self,computer,ram,ssd):\n",
    "        self.computer=computer\n",
    "        self.ram=ram\n",
    "        self.ssd=ssd\n",
    "\n",
    "class laptop(computer):\n",
    "    model=\"\"\n",
    "    def __init__(self,computer,ram,ssd,model):\n",
    "        super().__init__(computer,ram,ssd)\n",
    "        self.model=model\n",
    "\n",
    "    def system_configurations(self):\n",
    "        print(\"Computer_Name\",self.computer)\n",
    "        print(\"RAM\",str(self.ram)+\"GB\")\n",
    "        print(\"SSD\",str(self.ssd)+\"GB\")\n",
    "        print(\"MODEL\",self.model)\n",
    "obj1=laptop('lenovo', 2, 512, 'l420')\n",
    "obj1.system_configurations()"
   ]
  }
 ],
 "metadata": {
  "kernelspec": {
   "display_name": "Python 3",
   "language": "python",
   "name": "python3"
  },
  "language_info": {
   "codemirror_mode": {
    "name": "ipython",
    "version": 3
   },
   "file_extension": ".py",
   "mimetype": "text/x-python",
   "name": "python",
   "nbconvert_exporter": "python",
   "pygments_lexer": "ipython3",
   "version": "3.6.10"
  }
 },
 "nbformat": 4,
 "nbformat_minor": 4
}
