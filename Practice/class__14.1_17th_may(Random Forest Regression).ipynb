{
 "cells": [
  {
   "cell_type": "code",
   "execution_count": 44,
   "metadata": {},
   "outputs": [],
   "source": [
    "import pandas as pd\n",
    "import numpy as np\n",
    "import matplotlib.pyplot as plt\n"
   ]
  },
  {
   "cell_type": "code",
   "execution_count": 45,
   "metadata": {},
   "outputs": [],
   "source": [
    "data=pd.read_csv(\"Gas-Consumption-RF.csv\")"
   ]
  },
  {
   "cell_type": "code",
   "execution_count": 46,
   "metadata": {},
   "outputs": [
    {
     "data": {
      "text/html": [
       "<div>\n",
       "<style scoped>\n",
       "    .dataframe tbody tr th:only-of-type {\n",
       "        vertical-align: middle;\n",
       "    }\n",
       "\n",
       "    .dataframe tbody tr th {\n",
       "        vertical-align: top;\n",
       "    }\n",
       "\n",
       "    .dataframe thead th {\n",
       "        text-align: right;\n",
       "    }\n",
       "</style>\n",
       "<table border=\"1\" class=\"dataframe\">\n",
       "  <thead>\n",
       "    <tr style=\"text-align: right;\">\n",
       "      <th></th>\n",
       "      <th>Petrol_tax</th>\n",
       "      <th>Average_income</th>\n",
       "      <th>Paved_Highways</th>\n",
       "      <th>Population_Driver_licence(%)</th>\n",
       "      <th>Petrol_Consumption</th>\n",
       "    </tr>\n",
       "  </thead>\n",
       "  <tbody>\n",
       "    <tr>\n",
       "      <th>0</th>\n",
       "      <td>9.0</td>\n",
       "      <td>3571</td>\n",
       "      <td>1976</td>\n",
       "      <td>0.525</td>\n",
       "      <td>541</td>\n",
       "    </tr>\n",
       "    <tr>\n",
       "      <th>1</th>\n",
       "      <td>9.0</td>\n",
       "      <td>4092</td>\n",
       "      <td>1250</td>\n",
       "      <td>0.572</td>\n",
       "      <td>524</td>\n",
       "    </tr>\n",
       "    <tr>\n",
       "      <th>2</th>\n",
       "      <td>9.0</td>\n",
       "      <td>3865</td>\n",
       "      <td>1586</td>\n",
       "      <td>0.580</td>\n",
       "      <td>561</td>\n",
       "    </tr>\n",
       "    <tr>\n",
       "      <th>3</th>\n",
       "      <td>7.5</td>\n",
       "      <td>4870</td>\n",
       "      <td>2351</td>\n",
       "      <td>0.529</td>\n",
       "      <td>414</td>\n",
       "    </tr>\n",
       "    <tr>\n",
       "      <th>4</th>\n",
       "      <td>8.0</td>\n",
       "      <td>4399</td>\n",
       "      <td>431</td>\n",
       "      <td>0.544</td>\n",
       "      <td>410</td>\n",
       "    </tr>\n",
       "  </tbody>\n",
       "</table>\n",
       "</div>"
      ],
      "text/plain": [
       "   Petrol_tax  Average_income  Paved_Highways  Population_Driver_licence(%)  \\\n",
       "0         9.0            3571            1976                         0.525   \n",
       "1         9.0            4092            1250                         0.572   \n",
       "2         9.0            3865            1586                         0.580   \n",
       "3         7.5            4870            2351                         0.529   \n",
       "4         8.0            4399             431                         0.544   \n",
       "\n",
       "   Petrol_Consumption  \n",
       "0                 541  \n",
       "1                 524  \n",
       "2                 561  \n",
       "3                 414  \n",
       "4                 410  "
      ]
     },
     "execution_count": 46,
     "metadata": {},
     "output_type": "execute_result"
    }
   ],
   "source": [
    "data.head()"
   ]
  },
  {
   "cell_type": "code",
   "execution_count": 47,
   "metadata": {},
   "outputs": [
    {
     "name": "stdout",
     "output_type": "stream",
     "text": [
      "<class 'pandas.core.frame.DataFrame'>\n",
      "RangeIndex: 48 entries, 0 to 47\n",
      "Data columns (total 5 columns):\n",
      " #   Column                        Non-Null Count  Dtype  \n",
      "---  ------                        --------------  -----  \n",
      " 0   Petrol_tax                    48 non-null     float64\n",
      " 1   Average_income                48 non-null     int64  \n",
      " 2   Paved_Highways                48 non-null     int64  \n",
      " 3   Population_Driver_licence(%)  48 non-null     float64\n",
      " 4   Petrol_Consumption            48 non-null     int64  \n",
      "dtypes: float64(2), int64(3)\n",
      "memory usage: 2.0 KB\n"
     ]
    }
   ],
   "source": [
    "data.info()"
   ]
  },
  {
   "cell_type": "code",
   "execution_count": 48,
   "metadata": {},
   "outputs": [
    {
     "data": {
      "text/plain": [
       "Petrol_tax                      0\n",
       "Average_income                  0\n",
       "Paved_Highways                  0\n",
       "Population_Driver_licence(%)    0\n",
       "Petrol_Consumption              0\n",
       "dtype: int64"
      ]
     },
     "execution_count": 48,
     "metadata": {},
     "output_type": "execute_result"
    }
   ],
   "source": [
    "data.isnull().sum()"
   ]
  },
  {
   "cell_type": "code",
   "execution_count": 49,
   "metadata": {},
   "outputs": [],
   "source": [
    "from sklearn.model_selection import train_test_split\n",
    "x=data.iloc[:,:-1]\n",
    "y=data.iloc[:,-1]"
   ]
  },
  {
   "cell_type": "code",
   "execution_count": 50,
   "metadata": {},
   "outputs": [],
   "source": [
    "x_train,x_test,y_train,y_test=train_test_split(x,y,test_size=0.2,random_state=0)"
   ]
  },
  {
   "cell_type": "code",
   "execution_count": 51,
   "metadata": {},
   "outputs": [
    {
     "data": {
      "text/plain": [
       "(38, 4)"
      ]
     },
     "execution_count": 51,
     "metadata": {},
     "output_type": "execute_result"
    }
   ],
   "source": [
    "x_train.shape"
   ]
  },
  {
   "cell_type": "code",
   "execution_count": 52,
   "metadata": {},
   "outputs": [
    {
     "data": {
      "text/plain": [
       "(10, 4)"
      ]
     },
     "execution_count": 52,
     "metadata": {},
     "output_type": "execute_result"
    }
   ],
   "source": [
    "x_test.shape"
   ]
  },
  {
   "cell_type": "markdown",
   "metadata": {},
   "source": [
    "### Scaling the data"
   ]
  },
  {
   "cell_type": "code",
   "execution_count": 53,
   "metadata": {},
   "outputs": [],
   "source": [
    "from sklearn.preprocessing import StandardScaler"
   ]
  },
  {
   "cell_type": "code",
   "execution_count": 54,
   "metadata": {},
   "outputs": [],
   "source": [
    "sc=StandardScaler()"
   ]
  },
  {
   "cell_type": "code",
   "execution_count": 55,
   "metadata": {},
   "outputs": [],
   "source": [
    "x_train=sc.fit_transform(x_train)\n",
    "x_test=sc.fit_transform(x_test)"
   ]
  },
  {
   "cell_type": "code",
   "execution_count": 56,
   "metadata": {},
   "outputs": [
    {
     "data": {
      "text/plain": [
       "array([[-1.32525691e-01,  1.50577399e+00,  2.25854636e+00,\n",
       "        -9.15791057e-01],\n",
       "       [-6.28192647e-01, -1.83367022e+00,  2.12333843e-01,\n",
       "        -1.12852703e+00],\n",
       "       [-1.32525691e-01, -1.78897047e+00, -4.54194551e-01,\n",
       "        -5.25775100e-01],\n",
       "       [-1.32525691e-01, -8.78212954e-01,  8.77245103e-01,\n",
       "         4.15208375e-02],\n",
       "       [-6.28192647e-01,  1.27482526e+00,  1.07480487e+00,\n",
       "         2.89712810e-01],\n",
       "       [ 1.35447518e+00, -8.42825648e-01, -1.13743332e+00,\n",
       "         5.92488356e-02],\n",
       "       [-6.28192647e-01, -4.00925436e-02, -4.64436395e-01,\n",
       "         8.21552752e-01],\n",
       "       [-6.28192647e-01,  7.42153173e-01,  2.93282707e-02,\n",
       "         2.61208055e+00],\n",
       "       [-6.28192647e-01,  8.82232011e-04,  1.22196399e+00,\n",
       "         1.65616824e-01],\n",
       "       [ 3.63141265e-01, -2.41241442e-01,  4.54996025e-02,\n",
       "        -2.42127131e-01],\n",
       "       [ 1.35447518e+00,  1.07926383e+00, -9.04835665e-01,\n",
       "        -1.16398303e+00],\n",
       "       [-6.28192647e-01, -2.07716626e-01,  7.28199328e-01,\n",
       "        -8.25751488e-02],\n",
       "       [-6.28192647e-01, -1.23208602e+00, -4.90849570e-01,\n",
       "        -2.42127131e-01],\n",
       "       [-6.28192647e-01,  5.13066928e-01,  5.46541367e-01,\n",
       "         1.53067267e+00],\n",
       "       [-6.28192647e-01, -3.26425844e-02, -5.85182339e-01,\n",
       "         4.66992791e-01],\n",
       "       [ 3.63141265e-01,  2.41143416e-01,  7.46796360e-01,\n",
       "        -8.44879065e-01],\n",
       "       [-6.28192647e-01, -2.05854136e-01,  2.08560532e-01,\n",
       "        -5.61231096e-01],\n",
       "       [ 1.35447518e+00, -1.11102418e+00, -2.85743178e-01,\n",
       "        -5.78959094e-01],\n",
       "       [ 2.34580909e+00,  1.90807179e+00, -1.20562244e+00,\n",
       "        -1.00303147e-01],\n",
       "       [-6.28192647e-01, -1.11661165e+00, -2.91403144e-01,\n",
       "        -6.49871086e-01],\n",
       "       [-1.04455289e+00, -9.60162506e-01,  5.46541367e-01,\n",
       "         9.27920740e-01],\n",
       "       [-6.28192647e-01,  2.69570892e-02,  6.34136081e-01,\n",
       "         5.55632781e-01],\n",
       "       [ 8.58808221e-01, -1.27119830e+00, -6.82479852e-01,\n",
       "         1.53067267e+00],\n",
       "       [ 1.35447518e+00, -4.20040463e-01, -1.22799278e+00,\n",
       "        -8.25751488e-02],\n",
       "       [-6.28192647e-01,  9.30264643e-01,  3.02893301e-01,\n",
       "        -4.71191527e-02],\n",
       "       [-6.28192647e-01, -1.06632442e+00, -8.61173069e-01,\n",
       "        -1.21716702e+00],\n",
       "       [ 8.58808221e-01,  4.77679621e-01, -8.59016891e-01,\n",
       "        -4.54863108e-01],\n",
       "       [ 3.63141265e-01,  1.86523452e+00,  1.63379391e+00,\n",
       "        -2.22766291e+00],\n",
       "       [ 1.35447518e+00, -1.10867156e-01, -3.01914510e-01,\n",
       "        -1.05761504e+00],\n",
       "       [-2.61086047e+00, -5.07577484e-01,  3.22774818e+00,\n",
       "        -1.88943137e-01],\n",
       "       [ 3.63141265e-01,  1.23943795e+00, -1.40264316e+00,\n",
       "         4.49264793e-01],\n",
       "       [ 8.58808221e-01,  4.37194975e-02,  5.49328794e-02,\n",
       "         1.77886465e+00],\n",
       "       [-6.28192647e-01,  3.62205254e-01,  7.27929806e-01,\n",
       "        -4.37135110e-01],\n",
       "       [-6.28192647e-01,  5.11694567e-02, -5.12411346e-01,\n",
       "         1.69022466e+00],\n",
       "       [ 1.35447518e+00,  2.95155621e-01, -5.02439024e-01,\n",
       "        -1.00303147e-01],\n",
       "       [-1.32525691e-01,  1.02897660e+00, -9.31248840e-01,\n",
       "        -8.44879065e-01],\n",
       "       [ 1.35447518e+00, -1.39039765e+00, -1.03231966e+00,\n",
       "        -9.15791057e-01],\n",
       "       [-1.61952656e+00,  1.67153558e+00, -9.44455428e-01,\n",
       "         1.69022466e+00]])"
      ]
     },
     "execution_count": 56,
     "metadata": {},
     "output_type": "execute_result"
    }
   ],
   "source": [
    "x_train"
   ]
  },
  {
   "cell_type": "code",
   "execution_count": 57,
   "metadata": {},
   "outputs": [],
   "source": [
    "from sklearn.ensemble import RandomForestRegressor\n"
   ]
  },
  {
   "cell_type": "code",
   "execution_count": 67,
   "metadata": {},
   "outputs": [],
   "source": [
    "r1=RandomForestRegressor(n_estimators=300,random_state=0)"
   ]
  },
  {
   "cell_type": "code",
   "execution_count": 68,
   "metadata": {},
   "outputs": [
    {
     "data": {
      "text/plain": [
       "RandomForestRegressor(bootstrap=True, ccp_alpha=0.0, criterion='mse',\n",
       "                      max_depth=None, max_features='auto', max_leaf_nodes=None,\n",
       "                      max_samples=None, min_impurity_decrease=0.0,\n",
       "                      min_impurity_split=None, min_samples_leaf=1,\n",
       "                      min_samples_split=2, min_weight_fraction_leaf=0.0,\n",
       "                      n_estimators=300, n_jobs=None, oob_score=False,\n",
       "                      random_state=0, verbose=0, warm_start=False)"
      ]
     },
     "execution_count": 68,
     "metadata": {},
     "output_type": "execute_result"
    }
   ],
   "source": [
    "r1.fit(x_train,y_train)"
   ]
  },
  {
   "cell_type": "code",
   "execution_count": 69,
   "metadata": {},
   "outputs": [],
   "source": [
    "y_pred=r1.predict(x_test)"
   ]
  },
  {
   "cell_type": "code",
   "execution_count": 70,
   "metadata": {},
   "outputs": [
    {
     "data": {
      "text/plain": [
       "array([554.86666667, 505.76333333, 597.53666667, 603.80666667,\n",
       "       619.25333333, 623.36333333, 582.85666667, 772.53      ,\n",
       "       500.13      , 489.5       ])"
      ]
     },
     "execution_count": 70,
     "metadata": {},
     "output_type": "execute_result"
    }
   ],
   "source": [
    "y_pred"
   ]
  },
  {
   "cell_type": "code",
   "execution_count": 71,
   "metadata": {},
   "outputs": [],
   "source": [
    "from sklearn import metrics"
   ]
  },
  {
   "cell_type": "code",
   "execution_count": 72,
   "metadata": {},
   "outputs": [
    {
     "data": {
      "text/plain": [
       "69.78799999999998"
      ]
     },
     "execution_count": 72,
     "metadata": {},
     "output_type": "execute_result"
    }
   ],
   "source": [
    "metrics.mean_absolute_error(y_test,y_pred)"
   ]
  },
  {
   "cell_type": "code",
   "execution_count": 73,
   "metadata": {},
   "outputs": [
    {
     "data": {
      "text/plain": [
       "7228.941037777777"
      ]
     },
     "execution_count": 73,
     "metadata": {},
     "output_type": "execute_result"
    }
   ],
   "source": [
    "metrics.mean_squared_error(y_test,y_pred)"
   ]
  },
  {
   "cell_type": "code",
   "execution_count": 74,
   "metadata": {},
   "outputs": [
    {
     "data": {
      "text/plain": [
       "85.02317941466184"
      ]
     },
     "execution_count": 74,
     "metadata": {},
     "output_type": "execute_result"
    }
   ],
   "source": [
    "np.sqrt(metrics.mean_squared_error(y_test,y_pred))"
   ]
  },
  {
   "cell_type": "code",
   "execution_count": 75,
   "metadata": {},
   "outputs": [
    {
     "data": {
      "text/plain": [
       "576.7708333333334"
      ]
     },
     "execution_count": 75,
     "metadata": {},
     "output_type": "execute_result"
    }
   ],
   "source": [
    "data['Petrol_Consumption'].mean()"
   ]
  },
  {
   "cell_type": "raw",
   "metadata": {},
   "source": [
    "\n",
    "Normally RMSE SHOULD NOT MORE THAN 10% OF AVERAGE VALUE\n",
    "Increase the number of trees( n_estimators) then rmse will decrease"
   ]
  },
  {
   "cell_type": "code",
   "execution_count": 188,
   "metadata": {},
   "outputs": [
    {
     "ename": "SyntaxError",
     "evalue": "invalid syntax (<ipython-input-188-8cc2632ddcfd>, line 1)",
     "output_type": "error",
     "traceback": [
      "\u001b[1;36m  File \u001b[1;32m\"<ipython-input-188-8cc2632ddcfd>\"\u001b[1;36m, line \u001b[1;32m1\u001b[0m\n\u001b[1;33m    Increase the number of trees( n_estimators) then rmse will decrease\u001b[0m\n\u001b[1;37m               ^\u001b[0m\n\u001b[1;31mSyntaxError\u001b[0m\u001b[1;31m:\u001b[0m invalid syntax\n"
     ]
    }
   ],
   "source": []
  },
  {
   "cell_type": "code",
   "execution_count": null,
   "metadata": {},
   "outputs": [],
   "source": []
  }
 ],
 "metadata": {
  "kernelspec": {
   "display_name": "Python 3",
   "language": "python",
   "name": "python3"
  },
  "language_info": {
   "codemirror_mode": {
    "name": "ipython",
    "version": 3
   },
   "file_extension": ".py",
   "mimetype": "text/x-python",
   "name": "python",
   "nbconvert_exporter": "python",
   "pygments_lexer": "ipython3",
   "version": "3.6.10"
  }
 },
 "nbformat": 4,
 "nbformat_minor": 4
}
