{
 "cells": [
  {
   "cell_type": "code",
   "execution_count": 47,
   "metadata": {},
   "outputs": [],
   "source": [
    "class ClassName:\n",
    "    name=\"\"\n",
    "    v1=\"I am a class attribute\"\n",
    "    def function(self):\n",
    "        self.name=\"sdsd\"\n",
    "        print(\"i am from inside the class\")"
   ]
  },
  {
   "cell_type": "code",
   "execution_count": 48,
   "metadata": {},
   "outputs": [
    {
     "data": {
      "text/plain": [
       "__main__.ClassName"
      ]
     },
     "execution_count": 48,
     "metadata": {},
     "output_type": "execute_result"
    }
   ],
   "source": [
    "ClassName"
   ]
  },
  {
   "cell_type": "code",
   "execution_count": 49,
   "metadata": {},
   "outputs": [],
   "source": [
    "obj1=ClassName()"
   ]
  },
  {
   "cell_type": "code",
   "execution_count": 50,
   "metadata": {},
   "outputs": [
    {
     "data": {
      "text/plain": [
       "'I am a class attribute'"
      ]
     },
     "execution_count": 50,
     "metadata": {},
     "output_type": "execute_result"
    }
   ],
   "source": [
    "obj1.v1"
   ]
  },
  {
   "cell_type": "code",
   "execution_count": 51,
   "metadata": {},
   "outputs": [
    {
     "name": "stdout",
     "output_type": "stream",
     "text": [
      "i am from inside the class\n"
     ]
    }
   ],
   "source": [
    "obj1.function()"
   ]
  },
  {
   "cell_type": "code",
   "execution_count": 52,
   "metadata": {},
   "outputs": [
    {
     "data": {
      "text/plain": [
       "'I am a class attribute'"
      ]
     },
     "execution_count": 52,
     "metadata": {},
     "output_type": "execute_result"
    }
   ],
   "source": [
    "ClassName.v1"
   ]
  },
  {
   "cell_type": "code",
   "execution_count": 53,
   "metadata": {},
   "outputs": [
    {
     "data": {
      "text/plain": [
       "'sdsd'"
      ]
     },
     "execution_count": 53,
     "metadata": {},
     "output_type": "execute_result"
    }
   ],
   "source": [
    "obj1.name"
   ]
  },
  {
   "cell_type": "code",
   "execution_count": 58,
   "metadata": {},
   "outputs": [],
   "source": [
    "#default constructor\n",
    "\n",
    "class ClassName:\n",
    "    name=\"\"\n",
    "    def __init__(self):\n",
    "        print(\"object is created\")\n",
    "        \n",
    "    def function(self):\n",
    "        self.name=\"sdsd\"\n",
    "        print(\"i am from inside the class\")"
   ]
  },
  {
   "cell_type": "code",
   "execution_count": 59,
   "metadata": {},
   "outputs": [
    {
     "name": "stdout",
     "output_type": "stream",
     "text": [
      "object is created\n"
     ]
    }
   ],
   "source": [
    "obj1=ClassName()"
   ]
  },
  {
   "cell_type": "code",
   "execution_count": 60,
   "metadata": {},
   "outputs": [],
   "source": [
    "#default constructor\n",
    "\n",
    "class ClassName:\n",
    "    name=\"\"\n",
    "    def __init__(self):\n",
    "       self.name=\"allu\"\n",
    "    def function(self):\n",
    "      \n",
    "        print(self.name)"
   ]
  },
  {
   "cell_type": "code",
   "execution_count": 61,
   "metadata": {},
   "outputs": [
    {
     "name": "stdout",
     "output_type": "stream",
     "text": [
      "allu\n"
     ]
    }
   ],
   "source": [
    "obj1=ClassName()\n",
    "obj1.function()"
   ]
  },
  {
   "cell_type": "code",
   "execution_count": 62,
   "metadata": {},
   "outputs": [],
   "source": [
    "obj1.name=\"sai\""
   ]
  },
  {
   "cell_type": "code",
   "execution_count": 63,
   "metadata": {},
   "outputs": [
    {
     "name": "stdout",
     "output_type": "stream",
     "text": [
      "sai\n"
     ]
    }
   ],
   "source": [
    "obj1.function()"
   ]
  },
  {
   "cell_type": "code",
   "execution_count": null,
   "metadata": {},
   "outputs": [],
   "source": [
    "#Parametrized constructor\n",
    "\n",
    "class ClassName:\n",
    "    name=\"\"\n",
    "    def __init__(self,name):\n",
    "       self.name=name\n",
    "    def function(self):\n",
    "      \n",
    "        print(self.name)"
   ]
  },
  {
   "cell_type": "code",
   "execution_count": 69,
   "metadata": {},
   "outputs": [
    {
     "name": "stdout",
     "output_type": "stream",
     "text": [
      "190\n"
     ]
    }
   ],
   "source": [
    "class addition:\n",
    "    first=0\n",
    "    second=0\n",
    "    def __init__(self,first,second):\n",
    "     self.first=first\n",
    "     self.second=second\n",
    "    \n",
    "    def print_sum(self):\n",
    "     print(self.first+self.second)\n",
    "    \n",
    "\n",
    "obj1=addition(100,90)\n",
    "obj1.print_sum()\n"
   ]
  },
  {
   "cell_type": "markdown",
   "metadata": {},
   "source": [
    "# INHERITANCE"
   ]
  },
  {
   "cell_type": "code",
   "execution_count": 74,
   "metadata": {},
   "outputs": [],
   "source": [
    "class parent:\n",
    "    parentname=\"sai\"\n",
    "    childname=\"allu\"\n",
    "    \n",
    "    def show_parent(self):\n",
    "        print(self.parentname)\n",
    "        \n",
    "class child(parent):\n",
    "    def show_child(self):\n",
    "        print(self.childname)"
   ]
  },
  {
   "cell_type": "code",
   "execution_count": 75,
   "metadata": {},
   "outputs": [],
   "source": [
    "ch1=child()"
   ]
  },
  {
   "cell_type": "code",
   "execution_count": 76,
   "metadata": {},
   "outputs": [
    {
     "data": {
      "text/plain": [
       "'sai'"
      ]
     },
     "execution_count": 76,
     "metadata": {},
     "output_type": "execute_result"
    }
   ],
   "source": [
    "ch1.parentname"
   ]
  },
  {
   "cell_type": "code",
   "execution_count": 77,
   "metadata": {},
   "outputs": [
    {
     "name": "stdout",
     "output_type": "stream",
     "text": [
      "allu\n"
     ]
    }
   ],
   "source": [
    "ch1.show_child()"
   ]
  },
  {
   "cell_type": "markdown",
   "metadata": {},
   "source": [
    "# Multiple Inheritance"
   ]
  },
  {
   "cell_type": "code",
   "execution_count": 78,
   "metadata": {},
   "outputs": [],
   "source": [
    "class parent:\n",
    "    parentname=\"sai\"\n",
    "    son_name=\"allu\"\n",
    "    daugh_name=\"srilu\"\n",
    "    def show_parent(self):\n",
    "        print(self.parentname)\n",
    "        \n",
    "class son(parent):\n",
    "    def show_son(self):\n",
    "        print(self.son_name)\n",
    "        \n",
    "class daughter(parent):\n",
    "    def show_daughter(self):\n",
    "        print(self.daugh_name)"
   ]
  },
  {
   "cell_type": "code",
   "execution_count": 79,
   "metadata": {},
   "outputs": [],
   "source": [
    "s1=son()"
   ]
  },
  {
   "cell_type": "code",
   "execution_count": 80,
   "metadata": {},
   "outputs": [
    {
     "name": "stdout",
     "output_type": "stream",
     "text": [
      "sai\n"
     ]
    }
   ],
   "source": [
    "s1.show_parent()"
   ]
  },
  {
   "cell_type": "code",
   "execution_count": 81,
   "metadata": {},
   "outputs": [
    {
     "name": "stdout",
     "output_type": "stream",
     "text": [
      "allu\n"
     ]
    }
   ],
   "source": [
    "s1.show_son()"
   ]
  },
  {
   "cell_type": "code",
   "execution_count": 82,
   "metadata": {},
   "outputs": [],
   "source": [
    "d1=daughter()"
   ]
  },
  {
   "cell_type": "code",
   "execution_count": 83,
   "metadata": {},
   "outputs": [
    {
     "data": {
      "text/plain": [
       "'srilu'"
      ]
     },
     "execution_count": 83,
     "metadata": {},
     "output_type": "execute_result"
    }
   ],
   "source": [
    "d1.daugh_name"
   ]
  },
  {
   "cell_type": "markdown",
   "metadata": {},
   "source": [
    "# Hierarichal Inheritance"
   ]
  },
  {
   "cell_type": "code",
   "execution_count": 89,
   "metadata": {},
   "outputs": [],
   "source": [
    "class father:\n",
    "    fname=\"\"\n",
    "    def show_father(self):\n",
    "        print(self.fname)\n",
    "        \n",
    "class mother:\n",
    "    mname=\"\"\n",
    "    def show_father(self):\n",
    "        print(self.fname)\n",
    "\n",
    "class child(father,mother):\n",
    "    def show_parents(self):\n",
    "        print(\"Father Name is\",self.fname)\n",
    "        print(\"Mother Name is\",self.mname)\n",
    "        \n",
    "ch1=child()\n",
    "ch1.fname=\"ALLU SAI PRUDHVI\"\n",
    "ch1.mname=\"DIVYA\""
   ]
  },
  {
   "cell_type": "code",
   "execution_count": 90,
   "metadata": {},
   "outputs": [
    {
     "name": "stdout",
     "output_type": "stream",
     "text": [
      "Father Name is ALLU SAI PRUDHVI\n",
      "Mother Name is DIVYA\n"
     ]
    }
   ],
   "source": [
    "ch1.show_parents()"
   ]
  },
  {
   "cell_type": "code",
   "execution_count": 91,
   "metadata": {},
   "outputs": [
    {
     "name": "stdout",
     "output_type": "stream",
     "text": [
      "ALLU SAI PRUDHVI\n"
     ]
    }
   ],
   "source": [
    "ch1.show_father()"
   ]
  },
  {
   "cell_type": "code",
   "execution_count": 1,
   "metadata": {},
   "outputs": [],
   "source": [
    "class family:\n",
    "    fname=\"\"\n",
    "    mname=\"\"\n",
    "class father:\n",
    "    def show_father(self):\n",
    "        print(self.fname)\n",
    "        \n",
    "class mother:\n",
    "    def show_father(self):\n",
    "        print(self.fname)\n",
    "\n",
    "class child(father,mother):\n",
    "    def show_parents(self):\n",
    "        print(\"Father Name is\",self.fname)\n",
    "        print(\"Mother Name is\",self.mname)\n",
    "        \n",
    "ch1=child()\n",
    "ch1.fname=\"ALLU SAI PRUDHVI\"\n",
    "ch1.mname=\"DIVYA\""
   ]
  },
  {
   "cell_type": "code",
   "execution_count": null,
   "metadata": {},
   "outputs": [],
   "source": []
  }
 ],
 "metadata": {
  "kernelspec": {
   "display_name": "Python 3",
   "language": "python",
   "name": "python3"
  },
  "language_info": {
   "codemirror_mode": {
    "name": "ipython",
    "version": 3
   },
   "file_extension": ".py",
   "mimetype": "text/x-python",
   "name": "python",
   "nbconvert_exporter": "python",
   "pygments_lexer": "ipython3",
   "version": "3.6.10"
  }
 },
 "nbformat": 4,
 "nbformat_minor": 4
}
